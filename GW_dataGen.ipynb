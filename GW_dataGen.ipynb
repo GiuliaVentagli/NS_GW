{
 "cells": [
  {
   "cell_type": "code",
   "execution_count": null,
   "id": "4aef14d8",
   "metadata": {},
   "outputs": [],
   "source": [
    "from model_GW_dataGen import *\n",
    "os.chdir('TOVs_Thread/')"
   ]
  },
  {
   "cell_type": "markdown",
   "id": "04c088fd",
   "metadata": {},
   "source": [
    "### BNS with TEOBResumS"
   ]
  },
  {
   "cell_type": "code",
   "execution_count": null,
   "id": "03baf68f",
   "metadata": {},
   "outputs": [],
   "source": [
    "#%matplotlib inline\n",
    "from multiprocessing.pool import ThreadPool\n",
    "\n",
    "#choose name of file where to store final dataset:\n",
    "file_name = \"GW_data.txt\"\n",
    "\n",
    "#create new file - NB: it OVERWRITE if a file with same name exists \n",
    "f = open(file_name, \"w\")\n",
    "f.close()\n",
    "\n",
    "#Load speed of sound dataset\n",
    "#These are encoded in the parameter I called 'z', which is read from the name of file\n",
    "#Note: these are on separate files than TOV! They will be added to each line at the end\n",
    "cs_values = readMatrix('matrixcs10000.dat')\n",
    "rho_values = readMatrix('matrixrho10000.dat')\n",
    "\n",
    "#Select all needed eos files, right now only with Lambda=0\n",
    "listFile = []\n",
    "#First it gets ap4 files\n",
    "for file in glob.glob('TOV_ap4_0.0*.csv'):\n",
    "    listFile.append(file)\n",
    "#Then it gets sly files\n",
    "for file in glob.glob('TOV_sly_0.0*.csv'):\n",
    "    listFile.append(file)\n",
    "\n",
    "#For a test: this is a list with just two files to run the loop and check the code\n",
    "#listFile = ['TOV_ap4_0.0_4462.csv','TOV_ap4_0.0_3202.csv']\n",
    "\n",
    "#Threaded loop on EOS:\n",
    "with ThreadPool() as pool:\n",
    "    for result in pool.map(task_EOS_loop,listFile):\n",
    "        #Add info on c_s and rho at beginning of each line (given z, which is removed)\n",
    "        new_result = []\n",
    "        for row in result:\n",
    "            z_val = int(row[0])\n",
    "            array_to_save = row[1:]\n",
    "            array_to_save = np.insert(array_to_save, 0, cs_values[z_val-1], axis=0)\n",
    "            array_to_save = np.insert(array_to_save, 0, rho_values[z_val-1], axis=0)\n",
    "            new_result.append(array_to_save)\n",
    "        \n",
    "        #Dump data into common file\n",
    "        f = open(file_name, 'a')\n",
    "        np.savetxt(f, new_result, fmt='%.5e', delimiter=',')\n",
    "        f.close()"
   ]
  },
  {
   "cell_type": "code",
   "execution_count": null,
   "id": "7c7c2bde",
   "metadata": {},
   "outputs": [],
   "source": []
  }
 ],
 "metadata": {
  "kernelspec": {
   "display_name": "Python 3 (ipykernel)",
   "language": "python",
   "name": "python3"
  },
  "language_info": {
   "codemirror_mode": {
    "name": "ipython",
    "version": 3
   },
   "file_extension": ".py",
   "mimetype": "text/x-python",
   "name": "python",
   "nbconvert_exporter": "python",
   "pygments_lexer": "ipython3",
   "version": "3.10.12"
  },
  "varInspector": {
   "cols": {
    "lenName": 16,
    "lenType": 16,
    "lenVar": 40
   },
   "kernels_config": {
    "python": {
     "delete_cmd_postfix": "",
     "delete_cmd_prefix": "del ",
     "library": "var_list.py",
     "varRefreshCmd": "print(var_dic_list())"
    },
    "r": {
     "delete_cmd_postfix": ") ",
     "delete_cmd_prefix": "rm(",
     "library": "var_list.r",
     "varRefreshCmd": "cat(var_dic_list()) "
    }
   },
   "types_to_exclude": [
    "module",
    "function",
    "builtin_function_or_method",
    "instance",
    "_Feature"
   ],
   "window_display": false
  }
 },
 "nbformat": 4,
 "nbformat_minor": 5
}
